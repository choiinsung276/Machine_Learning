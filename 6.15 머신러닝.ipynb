{
 "cells": [
  {
   "cell_type": "code",
   "execution_count": 5,
   "metadata": {},
   "outputs": [],
   "source": [
    "# 영화 분류\n",
    "import operator\n",
    "import numpy as np\n",
    "import pandas as pd\n",
    "import matplotlib as mpl\n",
    "import matplotlib.pyplot as plt\n",
    "import seaborn as sns\n"
   ]
  },
  {
   "cell_type": "code",
   "execution_count": 29,
   "metadata": {},
   "outputs": [],
   "source": [
    "def createDataSet():\n",
    "    group = np.array([[1.0,2.0],[1.0,4.0],[4.0,1.0],[4.0,2.0]])\n",
    "    label = [\"Action\",\"Action\",\"Romance\",\"Romance\"]\n",
    "    return group, label\n",
    "\n",
    "def findMajorityClass(x_new, target, k , sortedDistance):\n",
    "    classCount = {}\n",
    "    \n",
    "    for i in range(k):\n",
    "        voteLabel = target[sortedDistance[i]]\n",
    "        classCount[voteLabel] =classCount.get(voteLabel, 0) +1\n",
    "    return sorted(classCount.items(), key = operator.itemgetter(1),\n",
    "                 reverse = True)\n",
    "        \n",
    "def classify(x_new, data, target, k):\n",
    "    sortedDistance = calcDistance(x_new, data)\n",
    "    sortedDistanceCount = findMajorityClass(x_new, target, k, sortedDistance)\n",
    "    return sortedDistanceCount[0][0]\n",
    "\n",
    "def calcDistance(x_new,data):\n",
    "    dataSize = data.shape[0]\n",
    "    diffMat = np.tile(x_new, (dataSize,1)) -data\n",
    "    \n",
    "    sqDiffMat = diffMat **2\n",
    "    sqDistances = sqDiffMat.sum(axis  =1)\n",
    "    distances = sqDistances** 5\n",
    "    print(distances.argsourt())\n",
    "    return distances.argsort()"
   ]
  },
  {
   "cell_type": "code",
   "execution_count": 30,
   "metadata": {},
   "outputs": [
    {
     "ename": "AttributeError",
     "evalue": "'numpy.ndarray' object has no attribute 'argsourt'",
     "output_type": "error",
     "traceback": [
      "\u001b[1;31m---------------------------------------------------------------------------\u001b[0m",
      "\u001b[1;31mAttributeError\u001b[0m                            Traceback (most recent call last)",
      "\u001b[1;32m<ipython-input-30-8e3f0caf809c>\u001b[0m in \u001b[0;36m<module>\u001b[1;34m\u001b[0m\n\u001b[0;32m      3\u001b[0m \u001b[0minX\u001b[0m \u001b[1;33m=\u001b[0m \u001b[1;33m[\u001b[0m\u001b[1;36m2.0\u001b[0m\u001b[1;33m,\u001b[0m\u001b[1;36m3.0\u001b[0m\u001b[1;33m]\u001b[0m\u001b[1;33m\u001b[0m\u001b[1;33m\u001b[0m\u001b[0m\n\u001b[0;32m      4\u001b[0m \u001b[1;33m\u001b[0m\u001b[0m\n\u001b[1;32m----> 5\u001b[1;33m \u001b[0mresult\u001b[0m \u001b[1;33m=\u001b[0m \u001b[0mclassify\u001b[0m\u001b[1;33m(\u001b[0m\u001b[0minX\u001b[0m\u001b[1;33m,\u001b[0m\u001b[0mX\u001b[0m\u001b[1;33m,\u001b[0m\u001b[0my\u001b[0m\u001b[1;33m,\u001b[0m\u001b[1;36m3\u001b[0m\u001b[1;33m)\u001b[0m\u001b[1;33m\u001b[0m\u001b[1;33m\u001b[0m\u001b[0m\n\u001b[0m\u001b[0;32m      6\u001b[0m \u001b[0mprint\u001b[0m\u001b[1;33m(\u001b[0m\u001b[1;34m\"결과: \"\u001b[0m\u001b[1;33m,\u001b[0m \u001b[0mresult\u001b[0m\u001b[1;33m)\u001b[0m\u001b[1;33m\u001b[0m\u001b[1;33m\u001b[0m\u001b[0m\n",
      "\u001b[1;32m<ipython-input-29-b317089ca317>\u001b[0m in \u001b[0;36mclassify\u001b[1;34m(x_new, data, target, k)\u001b[0m\n\u001b[0;32m     14\u001b[0m \u001b[1;33m\u001b[0m\u001b[0m\n\u001b[0;32m     15\u001b[0m \u001b[1;32mdef\u001b[0m \u001b[0mclassify\u001b[0m\u001b[1;33m(\u001b[0m\u001b[0mx_new\u001b[0m\u001b[1;33m,\u001b[0m \u001b[0mdata\u001b[0m\u001b[1;33m,\u001b[0m \u001b[0mtarget\u001b[0m\u001b[1;33m,\u001b[0m \u001b[0mk\u001b[0m\u001b[1;33m)\u001b[0m\u001b[1;33m:\u001b[0m\u001b[1;33m\u001b[0m\u001b[1;33m\u001b[0m\u001b[0m\n\u001b[1;32m---> 16\u001b[1;33m     \u001b[0msortedDistance\u001b[0m \u001b[1;33m=\u001b[0m \u001b[0mcalcDistance\u001b[0m\u001b[1;33m(\u001b[0m\u001b[0mx_new\u001b[0m\u001b[1;33m,\u001b[0m \u001b[0mdata\u001b[0m\u001b[1;33m)\u001b[0m\u001b[1;33m\u001b[0m\u001b[1;33m\u001b[0m\u001b[0m\n\u001b[0m\u001b[0;32m     17\u001b[0m     \u001b[0msortedDistanceCount\u001b[0m \u001b[1;33m=\u001b[0m \u001b[0mfindMajorityClass\u001b[0m\u001b[1;33m(\u001b[0m\u001b[0mx_new\u001b[0m\u001b[1;33m,\u001b[0m \u001b[0mtarget\u001b[0m\u001b[1;33m,\u001b[0m \u001b[0mk\u001b[0m\u001b[1;33m,\u001b[0m \u001b[0msortedDistance\u001b[0m\u001b[1;33m)\u001b[0m\u001b[1;33m\u001b[0m\u001b[1;33m\u001b[0m\u001b[0m\n\u001b[0;32m     18\u001b[0m     \u001b[1;32mreturn\u001b[0m \u001b[0msortedDistanceCount\u001b[0m\u001b[1;33m[\u001b[0m\u001b[1;36m0\u001b[0m\u001b[1;33m]\u001b[0m\u001b[1;33m[\u001b[0m\u001b[1;36m0\u001b[0m\u001b[1;33m]\u001b[0m\u001b[1;33m\u001b[0m\u001b[1;33m\u001b[0m\u001b[0m\n",
      "\u001b[1;32m<ipython-input-29-b317089ca317>\u001b[0m in \u001b[0;36mcalcDistance\u001b[1;34m(x_new, data)\u001b[0m\n\u001b[0;32m     25\u001b[0m     \u001b[0msqDistances\u001b[0m \u001b[1;33m=\u001b[0m \u001b[0msqDiffMat\u001b[0m\u001b[1;33m.\u001b[0m\u001b[0msum\u001b[0m\u001b[1;33m(\u001b[0m\u001b[0maxis\u001b[0m  \u001b[1;33m=\u001b[0m\u001b[1;36m1\u001b[0m\u001b[1;33m)\u001b[0m\u001b[1;33m\u001b[0m\u001b[1;33m\u001b[0m\u001b[0m\n\u001b[0;32m     26\u001b[0m     \u001b[0mdistances\u001b[0m \u001b[1;33m=\u001b[0m \u001b[0msqDistances\u001b[0m\u001b[1;33m**\u001b[0m \u001b[1;36m5\u001b[0m\u001b[1;33m\u001b[0m\u001b[1;33m\u001b[0m\u001b[0m\n\u001b[1;32m---> 27\u001b[1;33m     \u001b[0mprint\u001b[0m\u001b[1;33m(\u001b[0m\u001b[0mdistances\u001b[0m\u001b[1;33m.\u001b[0m\u001b[0margsourt\u001b[0m\u001b[1;33m(\u001b[0m\u001b[1;33m)\u001b[0m\u001b[1;33m)\u001b[0m\u001b[1;33m\u001b[0m\u001b[1;33m\u001b[0m\u001b[0m\n\u001b[0m\u001b[0;32m     28\u001b[0m     \u001b[1;32mreturn\u001b[0m \u001b[0mdistances\u001b[0m\u001b[1;33m.\u001b[0m\u001b[0margsort\u001b[0m\u001b[1;33m(\u001b[0m\u001b[1;33m)\u001b[0m\u001b[1;33m\u001b[0m\u001b[1;33m\u001b[0m\u001b[0m\n",
      "\u001b[1;31mAttributeError\u001b[0m: 'numpy.ndarray' object has no attribute 'argsourt'"
     ]
    }
   ],
   "source": [
    "X, y = createDataSet()\n",
    "\n",
    "inX = [2.0,3.0]\n",
    "\n",
    "result = classify(inX,X,y,3)\n",
    "print(\"결과: \", result)"
   ]
  },
  {
   "cell_type": "code",
   "execution_count": 35,
   "metadata": {},
   "outputs": [],
   "source": [
    "import operator\n",
    "\n",
    "def createDataSet():\n",
    "    group = np.array([[1.0, 2.0], [1.0, 4.0], [4.0, 1.0], [4.0, 2.0]])\n",
    "    label = ['Action', 'Action', 'Romance', 'Romance']\n",
    "    return group, label\n",
    "\n",
    "def calcDistance(x_new, data):\n",
    "    dataSize = data.shape[0]\n",
    "    diffMat = np.tile(x_new, (dataSize, 1)) - data\n",
    "\n",
    "    sqDiffMat = diffMat ** 2\n",
    "    sqDistances = sqDiffMat.sum(axis = 1)\n",
    "    distances = sqDistances ** 0.5\n",
    "  #   print(distances.argsort())\n",
    "    return distances.argsort()\n",
    "\n",
    "def findMajorityClass(x_new, target , k, sortedDistance):\n",
    "    classCount = {}\n",
    "    \n",
    "    for i in range(k):\n",
    "        voteLabel = target[sortedDistance[i]]\n",
    "        classCount[voteLabel] = classCount.get(voteLabel, 0) + 1\n",
    "\n",
    "    return sorted(classCount.items(), key = operator.itemgetter(1), reverse = True)\n",
    "\n",
    "\n",
    "def classify(x_new, data, target, k):\n",
    "    sortedDistance = calcDistance(x_new, data)\n",
    "    sortedDistanceCount = findMajorityClass(x_new, target, k, sortedDistance)\n",
    "    \n",
    "    return sortedDistanceCount[0][0]"
   ]
  },
  {
   "cell_type": "code",
   "execution_count": 36,
   "metadata": {},
   "outputs": [
    {
     "name": "stdout",
     "output_type": "stream",
     "text": [
      "결과:  Action\n"
     ]
    }
   ],
   "source": [
    "X, y = createDataSet()\n",
    "\n",
    "inX = [2.0,3.0]\n",
    "\n",
    "result = classify(inX,X,y,3)\n",
    "print(\"결과: \", result)"
   ]
  },
  {
   "cell_type": "code",
   "execution_count": null,
   "metadata": {},
   "outputs": [],
   "source": []
  }
 ],
 "metadata": {
  "kernelspec": {
   "display_name": "Python 3",
   "language": "python",
   "name": "python3"
  },
  "language_info": {
   "codemirror_mode": {
    "name": "ipython",
    "version": 3
   },
   "file_extension": ".py",
   "mimetype": "text/x-python",
   "name": "python",
   "nbconvert_exporter": "python",
   "pygments_lexer": "ipython3",
   "version": "3.7.6"
  }
 },
 "nbformat": 4,
 "nbformat_minor": 4
}
